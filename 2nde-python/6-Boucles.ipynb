{
 "cells": [
  {
   "cell_type": "markdown",
   "metadata": {},
   "source": [
    "# TITRE : LES BOUCLES\n",
    "## NIVEAU : BASES\n",
    "### Objectif : Découvrir la notion de BOUCLE comme outil de programmation\n",
    "\n",
    "Les programmes exécutent des instructions répétitives à l'intérieur des BOUCLES. Ces boucles peuvent être bornées (le nombre de répétitions est spécifié dans la définition de la boucle) ou non bornées ( le nombre de répétitions dépend du résultat d'un test effectué à chaque tour de boucle, on appelle ce test \"la condition d'arrêt\").\n",
    "Attention : Pour éviter qu'un programme tourne indéfiniment, il faut s'assurer que la condition d'arrêt sera vraie à un momment donné.\n"
   ]
  },
  {
   "cell_type": "markdown",
   "metadata": {},
   "source": [
    "Un peu de lecture pour commencer:\n",
    "\n",
    "http://lls-ftp.s3.amazonaws.com/collection-2019/python/FICHE5_LES_BOUCLES_BORNEES.pdf\n",
    "\n",
    "http://lls-ftp.s3.amazonaws.com/collection-2019/python/FICHE6_LES_BOUCLES_NON_BORNEES.pdf\n",
    "\n"
   ]
  },
  {
   "cell_type": "markdown",
   "metadata": {},
   "source": [
    "## Exercices"
   ]
  },
  {
   "cell_type": "markdown",
   "metadata": {},
   "source": [
    "### Ex 1 :\n",
    "Ecrire un programme python qui affiche la table de multiplication par 4 de $4 \\times 0$ à $4 \\times 10$.\n",
    "Puis écrire une fonction Tablemultiplication(n) qui affiche la table de multiplication par n de $n \\times 0$ à $n \\times 10$.\n"
   ]
  },
  {
   "cell_type": "code",
   "execution_count": null,
   "metadata": {},
   "outputs": [],
   "source": []
  },
  {
   "cell_type": "markdown",
   "metadata": {},
   "source": [
    "### Ex 2 : \n",
    "Soit la fonction $f(x)=x^2$ \n",
    "Définir la fonction avec python et donner la table de valeurs entre $x=-3$ à $x=3$ en laissant l'utilisateur déterminer le pas. "
   ]
  },
  {
   "cell_type": "code",
   "execution_count": null,
   "metadata": {},
   "outputs": [],
   "source": []
  },
  {
   "cell_type": "markdown",
   "metadata": {},
   "source": [
    "### Ex 3\n",
    "\n",
    "Ecrire un algorithme qui permet de trouver $x$ à $10^{-2}$ près tel que $x^3=-20$ et le programmer en python.\n",
    "\n",
    "Comparer votre résultat avec $\\sqrt[3]{-20}$."
   ]
  },
  {
   "cell_type": "code",
   "execution_count": null,
   "metadata": {},
   "outputs": [],
   "source": []
  },
  {
   "cell_type": "markdown",
   "metadata": {},
   "source": [
    "### Ex 4\n",
    "On rappelle qu'un nombre premier est un nombre possédant exactement 2 diviseurs : 1 et lui-même. On cherche à écrire un programme qui teste si un nombre $n$ est premier. \n"
   ]
  },
  {
   "cell_type": "code",
   "execution_count": null,
   "metadata": {},
   "outputs": [],
   "source": [
    "def Estpremier(n):\n",
    "    i=2\n",
    "    while n%i!=0:\n",
    "        i=i+1\n",
    "        return i"
   ]
  },
  {
   "cell_type": "markdown",
   "metadata": {},
   "source": [
    "Justifier que la boucle while n'est pas infinie. \n",
    "ans la ligne 2, pourquoi ne pas avoir commencer avec i=0 ou i=1 ?\n",
    "Ecrire un programme à l'aide de cette fonction pour déterminer si $n$ est premier ou non."
   ]
  },
  {
   "cell_type": "code",
   "execution_count": null,
   "metadata": {},
   "outputs": [],
   "source": []
  }
 ],
 "metadata": {
  "kernelspec": {
   "display_name": "Python 3",
   "language": "python",
   "name": "python3"
  },
  "language_info": {
   "codemirror_mode": {
    "name": "ipython",
    "version": 3
   },
   "file_extension": ".py",
   "mimetype": "text/x-python",
   "name": "python",
   "nbconvert_exporter": "python",
   "pygments_lexer": "ipython3",
   "version": "3.6.8"
  }
 },
 "nbformat": 4,
 "nbformat_minor": 2
}
