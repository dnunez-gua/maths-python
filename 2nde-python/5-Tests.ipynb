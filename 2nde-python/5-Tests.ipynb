{
 "cells": [
  {
   "cell_type": "markdown",
   "metadata": {},
   "source": [
    "# TITRE : LES TESTS \n",
    "## NIVEAU : BASES\n",
    "### Objectif : Découvrir la notion de TESTS (instructions conditionnelles) comme outil de programmation\n",
    "\n",
    "Un programme informatique devient intéressant lorsqu'il prend en charge des opérations longues et fastidieuses pour l'homme. Pour savoir comment réagir au fur et à mesure de l'avancement des instructions, il devient nécessaire de faire des tests dont les résultats vont modifier la suite du programme. L'enchaînement des instructions est ainsi lié à des conditions (tests).\n",
    "\n"
   ]
  },
  {
   "cell_type": "markdown",
   "metadata": {},
   "source": [
    "Un peu de lecture pour commencer:\n",
    "\n",
    "http://lls-ftp.s3.amazonaws.com/collection-2019/python/FICHE4_LES_INSTRUCTIONS_CONDITIONNELLES.pdf\n",
    "\n"
   ]
  },
  {
   "cell_type": "markdown",
   "metadata": {},
   "source": [
    "## Exercices"
   ]
  },
  {
   "cell_type": "markdown",
   "metadata": {},
   "source": [
    "### Ex 1 : \n",
    "Ecrire un algorithme qui teste si un nombre donné en argument d'une fonction est un multiple de 3 et le programmer en python."
   ]
  },
  {
   "cell_type": "code",
   "execution_count": null,
   "metadata": {},
   "outputs": [],
   "source": []
  },
  {
   "cell_type": "markdown",
   "metadata": {},
   "source": [
    "### Ex 2 : \n",
    "Programmer une fonction avec Python qui prend deux arguments correspondant à la longueur et la largeur d'un rectangle et qui teste si le rectangle est un carré ou non."
   ]
  },
  {
   "cell_type": "code",
   "execution_count": null,
   "metadata": {},
   "outputs": [],
   "source": []
  }
 ],
 "metadata": {
  "kernelspec": {
   "display_name": "Python 3",
   "language": "python",
   "name": "python3"
  },
  "language_info": {
   "codemirror_mode": {
    "name": "ipython",
    "version": 3
   },
   "file_extension": ".py",
   "mimetype": "text/x-python",
   "name": "python",
   "nbconvert_exporter": "python",
   "pygments_lexer": "ipython3",
   "version": "3.6.8"
  }
 },
 "nbformat": 4,
 "nbformat_minor": 2
}
