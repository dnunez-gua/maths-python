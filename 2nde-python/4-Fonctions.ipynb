{
 "cells": [
  {
   "cell_type": "markdown",
   "metadata": {},
   "source": [
    "# TITRE : LES FONCTIONS\n",
    "## NIVEAU : BASES\n",
    "### Objectif : Découvrir la notion de fonction comme base de la programmation\n",
    "\n",
    "Lorsque les programmes deviennent plus compliquées, il devient nécessaire de les organiser. Les fonctions sont essentielles en programmation, car elles contribuent à une bonne oragnisation et donc à une meilleure compréhension du programme lors de son écriture mais aussi lors de sa modification ou dans la recherche d'erreurs.  "
   ]
  },
  {
   "cell_type": "markdown",
   "metadata": {},
   "source": [
    "Un peu de lecture pour commencer:\n",
    "\n",
    "http://lls-ftp.s3.amazonaws.com/collection-2019/python/FICHE3_LES_FONCTIONS.pdf\n",
    "\n"
   ]
  },
  {
   "cell_type": "markdown",
   "metadata": {},
   "source": [
    "## Activités\n"
   ]
  },
  {
   "cell_type": "markdown",
   "metadata": {},
   "source": [
    "En mathématiques, on utilise souvent des fonctions dont la variable est un nombre. \n",
    "Considérons par exemple la fonction affine définie sur IR par f(x)=3x+5\n",
    "Voici comment la définir en Python:"
   ]
  },
  {
   "cell_type": "code",
   "execution_count": 3,
   "metadata": {},
   "outputs": [
    {
     "name": "stdout",
     "output_type": "stream",
     "text": [
      "l'image de 1 par la fonction f est est : 8\n"
     ]
    }
   ],
   "source": [
    "# définition de la fonction\n",
    "def f(x):\n",
    "    return 3*x+5\n",
    "\n",
    "#écriture du texte réponse et appel de la fonction\n",
    "\n",
    "print (\"L'image de 1 par la fonction f est est :\", f(1)) \n",
    "\n",
    "\n",
    "\n",
    "\n"
   ]
  },
  {
   "cell_type": "markdown",
   "metadata": {},
   "source": [
    "Recopier et modifier le programme précédent pour qu'il renvoie l'image de 4 par la fonction g définie sur IR par g(x)=7x-3"
   ]
  },
  {
   "cell_type": "code",
   "execution_count": null,
   "metadata": {},
   "outputs": [],
   "source": []
  },
  {
   "cell_type": "markdown",
   "metadata": {},
   "source": [
    "En Python, les variables des fonctions ne sont pas toujours des nombres.\n",
    "Dans l'exemple suivant, la variable est un texte (de type str)"
   ]
  },
  {
   "cell_type": "code",
   "execution_count": 5,
   "metadata": {},
   "outputs": [
    {
     "name": "stdout",
     "output_type": "stream",
     "text": [
      "Bonjour Jean . Comment vas-tu?\n"
     ]
    }
   ],
   "source": [
    "def Hello(name):\n",
    "    print (\"Bonjour\", name,\". Comment vas-tu?\")\n",
    "    \n",
    "#appel de la fonction\n",
    "\n",
    "Hello(\"Jean\")"
   ]
  },
  {
   "cell_type": "markdown",
   "metadata": {},
   "source": [
    "Modifier la fonction Hello, pour qu'elle renvoie un texte différent."
   ]
  },
  {
   "cell_type": "code",
   "execution_count": null,
   "metadata": {},
   "outputs": [],
   "source": []
  },
  {
   "cell_type": "markdown",
   "metadata": {},
   "source": [
    "Une fonction peut avoir plusieurs variables, de types différents :"
   ]
  },
  {
   "cell_type": "code",
   "execution_count": 12,
   "metadata": {},
   "outputs": [
    {
     "name": "stdout",
     "output_type": "stream",
     "text": [
      "Louise est donc né(e) en 2003  ou  2004\n"
     ]
    }
   ],
   "source": [
    "def naissance(name,age):\n",
    "    print(name,\"est donc né(e) en\", 2018-age,\" ou \", 2019-age)\n",
    "    \n",
    "#appel de la fonction\n",
    "    \n",
    "naissance(\"Louise\",15)"
   ]
  },
  {
   "cell_type": "code",
   "execution_count": null,
   "metadata": {},
   "outputs": [],
   "source": []
  }
 ],
 "metadata": {
  "kernelspec": {
   "display_name": "Python 3",
   "language": "python",
   "name": "python3"
  },
  "language_info": {
   "codemirror_mode": {
    "name": "ipython",
    "version": 3
   },
   "file_extension": ".py",
   "mimetype": "text/x-python",
   "name": "python",
   "nbconvert_exporter": "python",
   "pygments_lexer": "ipython3",
   "version": "3.6.8"
  }
 },
 "nbformat": 4,
 "nbformat_minor": 2
}
